{
 "cells": [
  {
   "cell_type": "markdown",
   "metadata": {},
   "source": [
    "# Coding Interview questions\n",
    "\n",
    "\n",
    "questions provided by\n",
    "<a href=https://www.techinterview.org/> Tech Interview Questions </a>\n"
   ]
  },
  {
   "cell_type": "code",
   "execution_count": 1,
   "metadata": {
    "collapsed": true
   },
   "outputs": [],
   "source": [
    "#### some imports, primarily for visualization purposes\n",
    "\n",
    "import numpy as np\n",
    "import itertools\n",
    "import matplotlib.pyplot as plt\n",
    "\n",
    "%matplotlib inline"
   ]
  },
  {
   "cell_type": "markdown",
   "metadata": {},
   "source": [
    "#### 1. 100 doors to be painted\n",
    "\n",
    "You have 100 doors to be painted and 2 painters. 1 starts at one end and paints every other door. The other painter starts at the other end and paints every 3rd door. What door number will they meet at?"
   ]
  },
  {
   "cell_type": "raw",
   "metadata": {},
   "source": [
    "This question can be reduced to an equation or can be solved using a iteratie/recursive function."
   ]
  },
  {
   "cell_type": "markdown",
   "metadata": {},
   "source": [
    "using a algebraic function, this problem can be solved by setting the two values as equivilant to each other and solving for the equation.  In this case the output is the door which is being painted (y) and how many doors each painter has painted is (x)\n",
    "\n",
    "$$ 2x = 100-3x  $$\n",
    "$$ 5x = 100  $$\n",
    "$$ x = 20 $$\n",
    " \n",
    "solve either equation for Y should give the same solution for this value of X\n",
    "\n",
    "$$ 2*20 = 40 $$\n"
   ]
  },
  {
   "cell_type": "code",
   "execution_count": 2,
   "metadata": {
    "collapsed": false
   },
   "outputs": [
    {
     "data": {
      "text/plain": [
       "40"
      ]
     },
     "execution_count": 2,
     "metadata": {},
     "output_type": "execute_result"
    }
   ],
   "source": [
    "#iterative solution for problem\n",
    "def paint_iter(num_doors, r1, r2):\n",
    "    for n in range(1,num_doors+1):\n",
    "        if n*r1 == num_doors - n*r2:\n",
    "            return n*r1\n",
    "    return 'the two painters do not meet'\n",
    "    \n",
    "## recursive solution for problem\n",
    "def paint_recursive(d1, d2, r1, r2):\n",
    "    d1 += r1\n",
    "    d2 += r2\n",
    "    if d1 == d2:\n",
    "        return d1\n",
    "    return paint(d1, d2, r1, r2)\n",
    "    \n",
    "paint_iter(100,2,3)"
   ]
  },
  {
   "cell_type": "markdown",
   "metadata": {},
   "source": [
    "#### 2. 5 Unbreakable Light Bulbs and a 80 Floor Building\n",
    "\n",
    "IF You have 5 unbreakable light bulbs and a 80 floor building. Using fewest possible drops, determine how much of an impact this type of light bulb can withstand? Can it withstand a drop from 20th floor, but breaks from the 22th?\n",
    "\n",
    "Category: Uncategorized"
   ]
  },
  {
   "cell_type": "raw",
   "metadata": {},
   "source": [
    "This is a computational complexity problem.  In this case, the best possible mathmatical solution is to use a log n level complexity similar to a search fuction used in an RDBMS "
   ]
  },
  {
   "cell_type": "code",
   "execution_count": 3,
   "metadata": {
    "collapsed": true
   },
   "outputs": [],
   "source": [
    "#iterative solution for problem\n",
    "def log_iter(floors, max_height):\n",
    "    attempts = 0\n",
    "    while True:\n",
    "        attempts += 1\n",
    "        if floors[len(floors)/2] == max_height:\n",
    "            return floors[len(floors)/2], attempts\n",
    "        if floors[len(floors)/2] < max_height:\n",
    "            floors = floors[len(floors)/2:]\n",
    "        if floors[len(floors)/2] > max_height:\n",
    "            floors = floors[:len(floors)/2]\n",
    "        \n",
    "#recursive solution for problem\n",
    "def log_search(floors, max_height, depth):\n",
    "    if floors[len(floors)/2] == max_height:\n",
    "        return floors[len(floors)/2], depth\n",
    "    if floors[len(floors)/2] < max_height:\n",
    "        return log_search(floors[len(floors)/2:], max_height, depth+1)\n",
    "    if floors[len(floors)/2] > max_height:\n",
    "        return log_search(floors[:len(floors)/2], max_height, depth+1)"
   ]
  },
  {
   "cell_type": "code",
   "execution_count": null,
   "metadata": {
    "collapsed": false
   },
   "outputs": [],
   "source": [
    "# plotting computational complexity with randomly genreated numbers\n",
    "### warning, this function takes a long time to run\n",
    "outputs = []\n",
    "for depth in np.arange(0,5,.25):\n",
    "    floors = np.arange(10**depth)\n",
    "    for i in range(10):\n",
    "        max_height = np.random.choice(floors)\n",
    "        outputs.append((10**depth, log_iter(floors, max_height)[1]))"
   ]
  },
  {
   "cell_type": "code",
   "execution_count": null,
   "metadata": {
    "collapsed": false
   },
   "outputs": [],
   "source": [
    "fig, ax = plt.subplots(1,1,figsize = (18,10))\n",
    "depths, iters = zip(*outputs)\n",
    "ax.scatter(depths, iters)"
   ]
  },
  {
   "cell_type": "markdown",
   "metadata": {},
   "source": [
    "#### 3. Amazon Interview Question: Count Negative Integers in Matrix"
   ]
  },
  {
   "cell_type": "raw",
   "metadata": {},
   "source": [
    "for this function, I will assume that the matrix is in the form of a numpy matrix, and matrix multiplication is acceptable.  Otherwise this is a linear computational complexity problem"
   ]
  }
 ],
 "metadata": {
  "anaconda-cloud": {},
  "kernelspec": {
   "display_name": "Python [conda root]",
   "language": "python",
   "name": "conda-root-py"
  },
  "language_info": {
   "codemirror_mode": {
    "name": "ipython",
    "version": 2
   },
   "file_extension": ".py",
   "mimetype": "text/x-python",
   "name": "python",
   "nbconvert_exporter": "python",
   "pygments_lexer": "ipython2",
   "version": "2.7.12"
  }
 },
 "nbformat": 4,
 "nbformat_minor": 1
}
